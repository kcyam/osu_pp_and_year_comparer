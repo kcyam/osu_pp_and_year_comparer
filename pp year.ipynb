{
 "cells": [
  {
   "cell_type": "markdown",
   "metadata": {},
   "source": [
    "This program will take the player's top 100 best plays and plot the year\n",
    "the map was ranked and how much raw pp it gave the player\n",
    "\n",
    "Add your API Key onto the API_KEY variable and osu!id#(s) in user_id variable\n",
    "run every block\n"
   ]
  },
  {
   "cell_type": "code",
   "execution_count": 1,
   "metadata": {},
   "outputs": [],
   "source": [
    "import json\n",
    "import urllib.parse\n",
    "import urllib.request\n",
    "import urllib.error\n",
    "\n",
    "import numpy as np\n",
    "import matplotlib.pyplot as plt\n",
    "import matplotlib.dates as mdates\n",
    "\n",
    "from datetime import datetime\n"
   ]
  },
  {
   "cell_type": "code",
   "execution_count": 2,
   "metadata": {},
   "outputs": [],
   "source": [
    "#Insert your own API key here\n",
    "API_KEY = ''\n"
   ]
  },
  {
   "cell_type": "code",
   "execution_count": 3,
   "metadata": {},
   "outputs": [],
   "source": [
    "def access_website(url):\n",
    "    #accessing the website\n",
    "    response = None\n",
    "    \n",
    "    try:\n",
    "        \n",
    "        response = urllib.request.urlopen(url)\n",
    "        data = response.read()\n",
    "        html = data.decode(\"UTF-8\")\n",
    "        return json.loads(html)\n",
    "\n",
    "    finally:\n",
    "        if response != None:\n",
    "            response.close()\n",
    "            "
   ]
  },
  {
   "cell_type": "code",
   "execution_count": 25,
   "metadata": {},
   "outputs": [],
   "source": [
    "def url_maker(item_id, api_type):\n",
    "    if api_type == \"player\":\n",
    "        return \"https://osu.ppy.sh/api/get_user_best?u=\"+str(item_id)+\"&limit=100&k=\"+API_KEY\n",
    "    \n",
    "    elif api_type == \"beatmap\":\n",
    "        return \"https://osu.ppy.sh/api/get_beatmaps?b=\"+item_id+\"&k=\"+API_KEY\n",
    "    \n",
    "    return \"https://osu.ppy.sh/api/get_user?u=\"+str(item_id)+\"&type=id&k=\"+API_KEY\n",
    "        "
   ]
  },
  {
   "cell_type": "code",
   "execution_count": 11,
   "metadata": {},
   "outputs": [],
   "source": [
    "years = mdates.YearLocator()   # every year\n",
    "months = mdates.MonthLocator()  # every month\n",
    "years_fmt = mdates.DateFormatter('%Y')\n",
    "\n",
    "\n",
    "\n",
    "#so we can get a mindate on x axis (first ranked map: Disco Prince)\n",
    "mindate = np.datetime64(access_website(url_maker(\"75\",\"beatmap\"))[0][\"approved_date\"]) \n",
    "\n",
    "\n"
   ]
  },
  {
   "cell_type": "code",
   "execution_count": null,
   "metadata": {},
   "outputs": [],
   "source": [
    "#Insert list of player's ID here\n",
    "user_id = []\n",
    "colors = [\"red\",\"black\",\"green\",\"purple\",\"yellow\",\"blue\",\"pink\"]\n",
    "\n",
    "plays = dict()\n",
    "\n",
    "fig, ax = plt.subplots(1, 1, figsize=(10, 8))\n",
    "ax.set_xlim(mindate, datetime.now())\n",
    "\n",
    "# format the ticks\n",
    "ax.xaxis.set_major_locator(years)\n",
    "ax.xaxis.set_major_formatter(years_fmt)\n",
    "ax.xaxis.set_minor_locator(months)\n",
    "plt.xlabel(\"Map's Date When Ranked\")\n",
    "plt.ylabel(\"Raw pp From Map\")\n",
    "\n",
    "\n",
    "\n",
    "for k, player in enumerate(user_id):\n",
    "    url = url_maker(user_id[k], \"player\")\n",
    "    json_data = access_website(url)\n",
    "    \n",
    "    for play in json_data:\n",
    "        url = url_maker(play[\"beatmap_id\"],\"beatmap\")\n",
    "        json_beatmap = access_website(url)\n",
    "        date = np.datetime64(json_beatmap[0][\"approved_date\"], 'M')\n",
    "        \n",
    "        plt.plot(date,float(play[\"pp\"]),'ro',c=colors[k])\n",
    "    #lame way to make a legend only have one\n",
    "    url = url_maker(user_id[k], \"name\")\n",
    "    name = access_website(url)[0][\"username\"]\n",
    "    plt.plot(date,float(play[\"pp\"]),'ro',c=colors[k],label=name)\n",
    "\n",
    "        \n",
    "plt.legend(prop={'size': 10})\n",
    "\n",
    "plt.show()"
   ]
  }
 ],
 "metadata": {
  "kernelspec": {
   "display_name": "Python 3",
   "language": "python",
   "name": "python3"
  },
  "language_info": {
   "codemirror_mode": {
    "name": "ipython",
    "version": 3
   },
   "file_extension": ".py",
   "mimetype": "text/x-python",
   "name": "python",
   "nbconvert_exporter": "python",
   "pygments_lexer": "ipython3",
   "version": "3.7.0"
  }
 },
 "nbformat": 4,
 "nbformat_minor": 2
}
